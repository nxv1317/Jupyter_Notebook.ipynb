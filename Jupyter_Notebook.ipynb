{
 "cells": [
  {
   "cell_type": "markdown",
   "metadata": {},
   "source": [
    "<center>\n",
    "    <img src=\"https://s3-api.us-geo.objectstorage.softlayer.net/cf-courses-data/CognitiveClass/Logos/organization_logo/organization_logo.png\" width=\"300\" alt=\"cognitiveclass.ai logo\"  />\n",
    "</center>\n"
   ]
  },
  {
   "cell_type": "markdown",
   "metadata": {},
   "source": [
    "#### Add your code below following the instructions given in the course\n"
   ]
  },
  {
   "cell_type": "code",
   "execution_count": null,
   "metadata": {},
   "outputs": [],
   "source": [
    "# My Jupyter Notebook on IBM Watson Studio"
   ]
  },
  {
   "cell_type": "markdown",
   "metadata": {},
   "source": [
    "**Navjot Singh**\n",
    "Data Analyst"
   ]
  },
  {
   "cell_type": "markdown",
   "metadata": {},
   "source": [
    "*I am interested in data science because it will allow me to provide a lot of useful insight to my organisation, and I will be able to improve the healthcare we provide*"
   ]
  },
  {
   "cell_type": "code",
   "execution_count": null,
   "metadata": {},
   "outputs": [],
   "source": [
    "### The code below will print the string \"Hello World!\""
   ]
  },
  {
   "cell_type": "code",
   "execution_count": 7,
   "metadata": {},
   "outputs": [
    {
     "name": "stdout",
     "output_type": "stream",
     "text": [
      "Hello World!\n"
     ]
    }
   ],
   "source": [
    "print(\"Hello World!\")"
   ]
  },
  {
   "cell_type": "markdown",
   "metadata": {},
   "source": [
    "# These are my favourite animals: \n",
    "\n",
    "* CAT : ![image of a cat sitting on a chair](https://img.buzzfeed.com/buzzfeed-static/static/2017-03/3/13/asset/buzzfeed-prod-fastlane-03/sub-buzz-2293-1488565797-12.png?downsize=700%3A%2A&output-quality=auto&output-format=auto)\n",
    "Click here to find out more bout cats: https://www.nationalgeographic.com/animals/mammals/facts/domestic-cat\n",
    "\n",
    "\n",
    "\n",
    "* DOG : ![image of  a dog running](https://i.insider.com/5484d9d1eab8ea3017b17e29?width=700&format=jpeg&auto=webp)\n",
    "Click here to find out more about dogs: https://www.nationalgeographic.com/animals/mammals/facts/domestic-dog\n",
    "\n",
    "\n",
    "\n",
    "* TUTLE: ![image of turtle swimming](https://images.fineartamerica.com/images/artworkimages/mediumlarge/3/turle-antonios-valamontes.jpg)\n",
    "Click here to find out more about turtles: https://www.nationalgeographic.com/animals/reptiles/facts/sea-turtles"
   ]
  },
  {
   "cell_type": "markdown",
   "metadata": {},
   "source": []
  }
 ],
 "metadata": {
  "kernelspec": {
   "display_name": "Python 3 (ipykernel)",
   "language": "python",
   "name": "python3"
  },
  "language_info": {
   "codemirror_mode": {
    "name": "ipython",
    "version": 3
   },
   "file_extension": ".py",
   "mimetype": "text/x-python",
   "name": "python",
   "nbconvert_exporter": "python",
   "pygments_lexer": "ipython3",
   "version": "3.9.12"
  }
 },
 "nbformat": 4,
 "nbformat_minor": 4
}
